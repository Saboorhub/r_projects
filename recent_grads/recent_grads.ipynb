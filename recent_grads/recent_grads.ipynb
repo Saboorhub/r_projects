{
 "cells": [
  {
   "cell_type": "code",
   "execution_count": 53,
   "metadata": {},
   "outputs": [],
   "source": [
    "# installed packages as part of this project \n",
    "\n",
    "#install.packages(\"readr\")\n",
    "#install.packages(\"tibble\")\n",
    "#install.packages(\"dplyr\")\n",
    "#install.packages(\"tidyverse\")"
   ]
  },
  {
   "cell_type": "code",
   "execution_count": 16,
   "metadata": {},
   "outputs": [],
   "source": [
    "# to load the readr package which reads the csv format data file, we need to use the library(readr)\n",
    "library(readr)\n",
    "library(tidyverse)\n",
    "library(tidyselect)"
   ]
  },
  {
   "cell_type": "markdown",
   "metadata": {},
   "source": [
    " ### Let us summarize what we are interested in\n",
    " \n",
    " 1. You're interested in the sciences.\n",
    "         \n",
    "The Major_category variable contains information about the field of study. We can use this information to identify majors in the physical and life sciences.\n",
    "\n",
    "2. Recent graduates must have a median salary above 40,000 USD.\n",
    "\n",
    "The Median variable provides median salaries for each major. We can use this information to identify majors with median salaries greater than 40,000 USD.\n",
    "\n",
    "3. More than 40 percent of graduates must be women.\n",
    "\n",
    "There is not a variable that tells us the percentage of graduates for each major that are women. However, we do have information about the total number of graduates (Total), the number of graduates who are men (Men), and the number of graduates who are women (Women)."
   ]
  },
  {
   "cell_type": "code",
   "execution_count": null,
   "metadata": {},
   "outputs": [],
   "source": [
    "# let us read the csv file now. So we need to use the read_csv function the readr package\n",
    "recent_grads <- read_csv(\"recent_grads.csv\")"
   ]
  },
  {
   "cell_type": "code",
   "execution_count": 21,
   "metadata": {},
   "outputs": [],
   "source": [
    "# Since we are only interested in the subset, we are going to use the select function of the dplyr\n",
    "recent_grads_select <- recent_grads%>%select(Major, Major_category, Total, Men, Women, Median, Unemployment_rate)\n"
   ]
  },
  {
   "cell_type": "code",
   "execution_count": 23,
   "metadata": {},
   "outputs": [],
   "source": [
    "# let us create a new column and add it to our new data frame. \n",
    "recent_grads_select <- recent_grads_select %>% mutate(Women_percent=Women/Total)"
   ]
  },
  {
   "cell_type": "code",
   "execution_count": 25,
   "metadata": {},
   "outputs": [
    {
     "data": {
      "text/html": [
       "<table>\n",
       "<thead><tr><th scope=col>Major</th><th scope=col>Major_category</th><th scope=col>Total</th><th scope=col>Men</th><th scope=col>Women</th><th scope=col>Median</th><th scope=col>Unemployment_rate</th><th scope=col>Women_percent</th></tr></thead>\n",
       "<tbody>\n",
       "\t<tr><td>PETROLEUM ENGINEERING                    </td><td>Engineering                              </td><td> 2339                                    </td><td> 2057                                    </td><td>  282                                    </td><td>110000                                   </td><td>0.01838053                               </td><td>0.1205643                                </td></tr>\n",
       "\t<tr><td>MINING AND MINERAL ENGINEERING           </td><td>Engineering                              </td><td>  756                                    </td><td>  679                                    </td><td>   77                                    </td><td> 75000                                   </td><td>0.11724138                               </td><td>0.1018519                                </td></tr>\n",
       "\t<tr><td>METALLURGICAL ENGINEERING                </td><td>Engineering                              </td><td>  856                                    </td><td>  725                                    </td><td>  131                                    </td><td> 73000                                   </td><td>0.02409639                               </td><td>0.1530374                                </td></tr>\n",
       "\t<tr><td>NAVAL ARCHITECTURE AND MARINE ENGINEERING</td><td>Engineering                              </td><td> 1258                                    </td><td> 1123                                    </td><td>  135                                    </td><td> 70000                                   </td><td>0.05012531                               </td><td>0.1073132                                </td></tr>\n",
       "\t<tr><td>CHEMICAL ENGINEERING                     </td><td>Engineering                              </td><td>32260                                    </td><td>21239                                    </td><td>11021                                    </td><td> 65000                                   </td><td>0.06109771                               </td><td>0.3416305                                </td></tr>\n",
       "\t<tr><td>NUCLEAR ENGINEERING                      </td><td>Engineering                              </td><td> 2573                                    </td><td> 2200                                    </td><td>  373                                    </td><td> 65000                                   </td><td>0.17722641                               </td><td>0.1449670                                </td></tr>\n",
       "\t<tr><td>ACTUARIAL SCIENCE                        </td><td>Business                                 </td><td> 3777                                    </td><td> 2110                                    </td><td> 1667                                    </td><td> 62000                                   </td><td>0.09565217                               </td><td>0.4413556                                </td></tr>\n",
       "\t<tr><td>ASTRONOMY AND ASTROPHYSICS               </td><td>Physical Sciences                        </td><td> 1792                                    </td><td>  832                                    </td><td>  960                                    </td><td> 62000                                   </td><td>0.02116741                               </td><td>0.5357143                                </td></tr>\n",
       "\t<tr><td>MECHANICAL ENGINEERING                   </td><td>Engineering                              </td><td>91227                                    </td><td>80320                                    </td><td>10907                                    </td><td> 60000                                   </td><td>0.05734228                               </td><td>0.1195589                                </td></tr>\n",
       "\t<tr><td>ELECTRICAL ENGINEERING                   </td><td>Engineering                              </td><td>81527                                    </td><td>65511                                    </td><td>16016                                    </td><td> 60000                                   </td><td>0.05917385                               </td><td>0.1964503                                </td></tr>\n",
       "</tbody>\n",
       "</table>\n"
      ],
      "text/latex": [
       "\\begin{tabular}{r|llllllll}\n",
       " Major & Major\\_category & Total & Men & Women & Median & Unemployment\\_rate & Women\\_percent\\\\\n",
       "\\hline\n",
       "\t PETROLEUM ENGINEERING                     & Engineering                               &  2339                                     &  2057                                     &   282                                     & 110000                                    & 0.01838053                                & 0.1205643                                \\\\\n",
       "\t MINING AND MINERAL ENGINEERING            & Engineering                               &   756                                     &   679                                     &    77                                     &  75000                                    & 0.11724138                                & 0.1018519                                \\\\\n",
       "\t METALLURGICAL ENGINEERING                 & Engineering                               &   856                                     &   725                                     &   131                                     &  73000                                    & 0.02409639                                & 0.1530374                                \\\\\n",
       "\t NAVAL ARCHITECTURE AND MARINE ENGINEERING & Engineering                               &  1258                                     &  1123                                     &   135                                     &  70000                                    & 0.05012531                                & 0.1073132                                \\\\\n",
       "\t CHEMICAL ENGINEERING                      & Engineering                               & 32260                                     & 21239                                     & 11021                                     &  65000                                    & 0.06109771                                & 0.3416305                                \\\\\n",
       "\t NUCLEAR ENGINEERING                       & Engineering                               &  2573                                     &  2200                                     &   373                                     &  65000                                    & 0.17722641                                & 0.1449670                                \\\\\n",
       "\t ACTUARIAL SCIENCE                         & Business                                  &  3777                                     &  2110                                     &  1667                                     &  62000                                    & 0.09565217                                & 0.4413556                                \\\\\n",
       "\t ASTRONOMY AND ASTROPHYSICS                & Physical Sciences                         &  1792                                     &   832                                     &   960                                     &  62000                                    & 0.02116741                                & 0.5357143                                \\\\\n",
       "\t MECHANICAL ENGINEERING                    & Engineering                               & 91227                                     & 80320                                     & 10907                                     &  60000                                    & 0.05734228                                & 0.1195589                                \\\\\n",
       "\t ELECTRICAL ENGINEERING                    & Engineering                               & 81527                                     & 65511                                     & 16016                                     &  60000                                    & 0.05917385                                & 0.1964503                                \\\\\n",
       "\\end{tabular}\n"
      ],
      "text/markdown": [
       "\n",
       "| Major | Major_category | Total | Men | Women | Median | Unemployment_rate | Women_percent |\n",
       "|---|---|---|---|---|---|---|---|\n",
       "| PETROLEUM ENGINEERING                     | Engineering                               |  2339                                     |  2057                                     |   282                                     | 110000                                    | 0.01838053                                | 0.1205643                                 |\n",
       "| MINING AND MINERAL ENGINEERING            | Engineering                               |   756                                     |   679                                     |    77                                     |  75000                                    | 0.11724138                                | 0.1018519                                 |\n",
       "| METALLURGICAL ENGINEERING                 | Engineering                               |   856                                     |   725                                     |   131                                     |  73000                                    | 0.02409639                                | 0.1530374                                 |\n",
       "| NAVAL ARCHITECTURE AND MARINE ENGINEERING | Engineering                               |  1258                                     |  1123                                     |   135                                     |  70000                                    | 0.05012531                                | 0.1073132                                 |\n",
       "| CHEMICAL ENGINEERING                      | Engineering                               | 32260                                     | 21239                                     | 11021                                     |  65000                                    | 0.06109771                                | 0.3416305                                 |\n",
       "| NUCLEAR ENGINEERING                       | Engineering                               |  2573                                     |  2200                                     |   373                                     |  65000                                    | 0.17722641                                | 0.1449670                                 |\n",
       "| ACTUARIAL SCIENCE                         | Business                                  |  3777                                     |  2110                                     |  1667                                     |  62000                                    | 0.09565217                                | 0.4413556                                 |\n",
       "| ASTRONOMY AND ASTROPHYSICS                | Physical Sciences                         |  1792                                     |   832                                     |   960                                     |  62000                                    | 0.02116741                                | 0.5357143                                 |\n",
       "| MECHANICAL ENGINEERING                    | Engineering                               | 91227                                     | 80320                                     | 10907                                     |  60000                                    | 0.05734228                                | 0.1195589                                 |\n",
       "| ELECTRICAL ENGINEERING                    | Engineering                               | 81527                                     | 65511                                     | 16016                                     |  60000                                    | 0.05917385                                | 0.1964503                                 |\n",
       "\n"
      ],
      "text/plain": [
       "   Major                                     Major_category    Total Men  \n",
       "1  PETROLEUM ENGINEERING                     Engineering        2339  2057\n",
       "2  MINING AND MINERAL ENGINEERING            Engineering         756   679\n",
       "3  METALLURGICAL ENGINEERING                 Engineering         856   725\n",
       "4  NAVAL ARCHITECTURE AND MARINE ENGINEERING Engineering        1258  1123\n",
       "5  CHEMICAL ENGINEERING                      Engineering       32260 21239\n",
       "6  NUCLEAR ENGINEERING                       Engineering        2573  2200\n",
       "7  ACTUARIAL SCIENCE                         Business           3777  2110\n",
       "8  ASTRONOMY AND ASTROPHYSICS                Physical Sciences  1792   832\n",
       "9  MECHANICAL ENGINEERING                    Engineering       91227 80320\n",
       "10 ELECTRICAL ENGINEERING                    Engineering       81527 65511\n",
       "   Women Median Unemployment_rate Women_percent\n",
       "1    282 110000 0.01838053        0.1205643    \n",
       "2     77  75000 0.11724138        0.1018519    \n",
       "3    131  73000 0.02409639        0.1530374    \n",
       "4    135  70000 0.05012531        0.1073132    \n",
       "5  11021  65000 0.06109771        0.3416305    \n",
       "6    373  65000 0.17722641        0.1449670    \n",
       "7   1667  62000 0.09565217        0.4413556    \n",
       "8    960  62000 0.02116741        0.5357143    \n",
       "9  10907  60000 0.05734228        0.1195589    \n",
       "10 16016  60000 0.05917385        0.1964503    "
      ]
     },
     "metadata": {},
     "output_type": "display_data"
    }
   ],
   "source": [
    "# here are the first few rows of the data\n",
    "recent_grads_select[1:10, ]"
   ]
  },
  {
   "cell_type": "markdown",
   "metadata": {},
   "source": [
    "### 3. More than 40 percent of our graduates should be women.\n",
    "\n",
    "When we look at the data above, we see that there are many Majors in which women's percentage is less than 40 percent. So we need to remove these majors and filter the data. We can use the filter() function from the dplyr package to achieve this. "
   ]
  },
  {
   "cell_type": "code",
   "execution_count": 26,
   "metadata": {},
   "outputs": [],
   "source": [
    "recent_grads_select <- recent_grads_select %>% filter(Women_percent >= .40)"
   ]
  },
  {
   "cell_type": "code",
   "execution_count": 28,
   "metadata": {},
   "outputs": [],
   "source": [
    "recent_grads_health <- recent_grads_select %>% filter(Major_category==\"Health\")\n"
   ]
  },
  {
   "cell_type": "code",
   "execution_count": 29,
   "metadata": {},
   "outputs": [
    {
     "data": {
      "text/html": [
       "<table>\n",
       "<thead><tr><th scope=col>Major</th><th scope=col>Major_category</th><th scope=col>Total</th><th scope=col>Men</th><th scope=col>Women</th><th scope=col>Median</th><th scope=col>Unemployment_rate</th><th scope=col>Women_percent</th></tr></thead>\n",
       "<tbody>\n",
       "\t<tr><td>NURSING                                            </td><td>Health                                             </td><td>209394                                             </td><td>21773                                              </td><td>187621                                             </td><td>48000                                              </td><td>0.04486272                                         </td><td>0.8960190                                          </td></tr>\n",
       "\t<tr><td>MEDICAL TECHNOLOGIES TECHNICIANS                   </td><td>Health                                             </td><td> 15914                                             </td><td> 3916                                              </td><td> 11998                                             </td><td>45000                                              </td><td>0.03698279                                         </td><td>0.7539274                                          </td></tr>\n",
       "\t<tr><td>MEDICAL ASSISTING SERVICES                         </td><td>Health                                             </td><td> 11123                                             </td><td>  803                                              </td><td> 10320                                             </td><td>42000                                              </td><td>0.04250653                                         </td><td>0.9278072                                          </td></tr>\n",
       "\t<tr><td>PHARMACY PHARMACEUTICAL SCIENCES AND ADMINISTRATION</td><td>Health                                             </td><td> 23551                                             </td><td> 8697                                              </td><td> 14854                                             </td><td>40000                                              </td><td>0.05552083                                         </td><td>0.6307163                                          </td></tr>\n",
       "\t<tr><td>MISCELLANEOUS HEALTH MEDICAL PROFESSIONS           </td><td>Health                                             </td><td> 13386                                             </td><td> 1589                                              </td><td> 11797                                             </td><td>36000                                              </td><td>0.08141125                                         </td><td>0.8812939                                          </td></tr>\n",
       "\t<tr><td>NUTRITION SCIENCES                                 </td><td>Health                                             </td><td> 18909                                             </td><td> 2563                                              </td><td> 16346                                             </td><td>35000                                              </td><td>0.06870068                                         </td><td>0.8644561                                          </td></tr>\n",
       "\t<tr><td>HEALTH AND MEDICAL ADMINISTRATIVE SERVICES         </td><td>Health                                             </td><td> 18109                                             </td><td> 4266                                              </td><td> 13843                                             </td><td>35000                                              </td><td>0.08962626                                         </td><td>0.7644265                                          </td></tr>\n",
       "\t<tr><td>COMMUNITY AND PUBLIC HEALTH                        </td><td>Health                                             </td><td> 19735                                             </td><td> 4103                                              </td><td> 15632                                             </td><td>34000                                              </td><td>0.11214439                                         </td><td>0.7920953                                          </td></tr>\n",
       "\t<tr><td>HEALTH AND MEDICAL PREPARATORY PROGRAMS            </td><td>Health                                             </td><td> 12740                                             </td><td> 5521                                              </td><td>  7219                                             </td><td>33500                                              </td><td>0.06977971                                         </td><td>0.5666405                                          </td></tr>\n",
       "\t<tr><td>TREATMENT THERAPY PROFESSIONS                      </td><td>Health                                             </td><td> 48491                                             </td><td>13487                                              </td><td> 35004                                             </td><td>33000                                              </td><td>0.05982121                                         </td><td>0.7218659                                          </td></tr>\n",
       "\t<tr><td>GENERAL MEDICAL AND HEALTH SERVICES                </td><td>Health                                             </td><td> 33599                                             </td><td> 7574                                              </td><td> 26025                                             </td><td>32400                                              </td><td>0.08210162                                         </td><td>0.7745766                                          </td></tr>\n",
       "\t<tr><td>COMMUNICATION DISORDERS SCIENCES AND SERVICES      </td><td>Health                                             </td><td> 38279                                             </td><td> 1225                                              </td><td> 37054                                             </td><td>28000                                              </td><td>0.04758400                                         </td><td>0.9679981                                          </td></tr>\n",
       "</tbody>\n",
       "</table>\n"
      ],
      "text/latex": [
       "\\begin{tabular}{r|llllllll}\n",
       " Major & Major\\_category & Total & Men & Women & Median & Unemployment\\_rate & Women\\_percent\\\\\n",
       "\\hline\n",
       "\t NURSING                                             & Health                                              & 209394                                              & 21773                                               & 187621                                              & 48000                                               & 0.04486272                                          & 0.8960190                                          \\\\\n",
       "\t MEDICAL TECHNOLOGIES TECHNICIANS                    & Health                                              &  15914                                              &  3916                                               &  11998                                              & 45000                                               & 0.03698279                                          & 0.7539274                                          \\\\\n",
       "\t MEDICAL ASSISTING SERVICES                          & Health                                              &  11123                                              &   803                                               &  10320                                              & 42000                                               & 0.04250653                                          & 0.9278072                                          \\\\\n",
       "\t PHARMACY PHARMACEUTICAL SCIENCES AND ADMINISTRATION & Health                                              &  23551                                              &  8697                                               &  14854                                              & 40000                                               & 0.05552083                                          & 0.6307163                                          \\\\\n",
       "\t MISCELLANEOUS HEALTH MEDICAL PROFESSIONS            & Health                                              &  13386                                              &  1589                                               &  11797                                              & 36000                                               & 0.08141125                                          & 0.8812939                                          \\\\\n",
       "\t NUTRITION SCIENCES                                  & Health                                              &  18909                                              &  2563                                               &  16346                                              & 35000                                               & 0.06870068                                          & 0.8644561                                          \\\\\n",
       "\t HEALTH AND MEDICAL ADMINISTRATIVE SERVICES          & Health                                              &  18109                                              &  4266                                               &  13843                                              & 35000                                               & 0.08962626                                          & 0.7644265                                          \\\\\n",
       "\t COMMUNITY AND PUBLIC HEALTH                         & Health                                              &  19735                                              &  4103                                               &  15632                                              & 34000                                               & 0.11214439                                          & 0.7920953                                          \\\\\n",
       "\t HEALTH AND MEDICAL PREPARATORY PROGRAMS             & Health                                              &  12740                                              &  5521                                               &   7219                                              & 33500                                               & 0.06977971                                          & 0.5666405                                          \\\\\n",
       "\t TREATMENT THERAPY PROFESSIONS                       & Health                                              &  48491                                              & 13487                                               &  35004                                              & 33000                                               & 0.05982121                                          & 0.7218659                                          \\\\\n",
       "\t GENERAL MEDICAL AND HEALTH SERVICES                 & Health                                              &  33599                                              &  7574                                               &  26025                                              & 32400                                               & 0.08210162                                          & 0.7745766                                          \\\\\n",
       "\t COMMUNICATION DISORDERS SCIENCES AND SERVICES       & Health                                              &  38279                                              &  1225                                               &  37054                                              & 28000                                               & 0.04758400                                          & 0.9679981                                          \\\\\n",
       "\\end{tabular}\n"
      ],
      "text/markdown": [
       "\n",
       "| Major | Major_category | Total | Men | Women | Median | Unemployment_rate | Women_percent |\n",
       "|---|---|---|---|---|---|---|---|\n",
       "| NURSING                                             | Health                                              | 209394                                              | 21773                                               | 187621                                              | 48000                                               | 0.04486272                                          | 0.8960190                                           |\n",
       "| MEDICAL TECHNOLOGIES TECHNICIANS                    | Health                                              |  15914                                              |  3916                                               |  11998                                              | 45000                                               | 0.03698279                                          | 0.7539274                                           |\n",
       "| MEDICAL ASSISTING SERVICES                          | Health                                              |  11123                                              |   803                                               |  10320                                              | 42000                                               | 0.04250653                                          | 0.9278072                                           |\n",
       "| PHARMACY PHARMACEUTICAL SCIENCES AND ADMINISTRATION | Health                                              |  23551                                              |  8697                                               |  14854                                              | 40000                                               | 0.05552083                                          | 0.6307163                                           |\n",
       "| MISCELLANEOUS HEALTH MEDICAL PROFESSIONS            | Health                                              |  13386                                              |  1589                                               |  11797                                              | 36000                                               | 0.08141125                                          | 0.8812939                                           |\n",
       "| NUTRITION SCIENCES                                  | Health                                              |  18909                                              |  2563                                               |  16346                                              | 35000                                               | 0.06870068                                          | 0.8644561                                           |\n",
       "| HEALTH AND MEDICAL ADMINISTRATIVE SERVICES          | Health                                              |  18109                                              |  4266                                               |  13843                                              | 35000                                               | 0.08962626                                          | 0.7644265                                           |\n",
       "| COMMUNITY AND PUBLIC HEALTH                         | Health                                              |  19735                                              |  4103                                               |  15632                                              | 34000                                               | 0.11214439                                          | 0.7920953                                           |\n",
       "| HEALTH AND MEDICAL PREPARATORY PROGRAMS             | Health                                              |  12740                                              |  5521                                               |   7219                                              | 33500                                               | 0.06977971                                          | 0.5666405                                           |\n",
       "| TREATMENT THERAPY PROFESSIONS                       | Health                                              |  48491                                              | 13487                                               |  35004                                              | 33000                                               | 0.05982121                                          | 0.7218659                                           |\n",
       "| GENERAL MEDICAL AND HEALTH SERVICES                 | Health                                              |  33599                                              |  7574                                               |  26025                                              | 32400                                               | 0.08210162                                          | 0.7745766                                           |\n",
       "| COMMUNICATION DISORDERS SCIENCES AND SERVICES       | Health                                              |  38279                                              |  1225                                               |  37054                                              | 28000                                               | 0.04758400                                          | 0.9679981                                           |\n",
       "\n"
      ],
      "text/plain": [
       "   Major                                               Major_category Total \n",
       "1  NURSING                                             Health         209394\n",
       "2  MEDICAL TECHNOLOGIES TECHNICIANS                    Health          15914\n",
       "3  MEDICAL ASSISTING SERVICES                          Health          11123\n",
       "4  PHARMACY PHARMACEUTICAL SCIENCES AND ADMINISTRATION Health          23551\n",
       "5  MISCELLANEOUS HEALTH MEDICAL PROFESSIONS            Health          13386\n",
       "6  NUTRITION SCIENCES                                  Health          18909\n",
       "7  HEALTH AND MEDICAL ADMINISTRATIVE SERVICES          Health          18109\n",
       "8  COMMUNITY AND PUBLIC HEALTH                         Health          19735\n",
       "9  HEALTH AND MEDICAL PREPARATORY PROGRAMS             Health          12740\n",
       "10 TREATMENT THERAPY PROFESSIONS                       Health          48491\n",
       "11 GENERAL MEDICAL AND HEALTH SERVICES                 Health          33599\n",
       "12 COMMUNICATION DISORDERS SCIENCES AND SERVICES       Health          38279\n",
       "   Men   Women  Median Unemployment_rate Women_percent\n",
       "1  21773 187621 48000  0.04486272        0.8960190    \n",
       "2   3916  11998 45000  0.03698279        0.7539274    \n",
       "3    803  10320 42000  0.04250653        0.9278072    \n",
       "4   8697  14854 40000  0.05552083        0.6307163    \n",
       "5   1589  11797 36000  0.08141125        0.8812939    \n",
       "6   2563  16346 35000  0.06870068        0.8644561    \n",
       "7   4266  13843 35000  0.08962626        0.7644265    \n",
       "8   4103  15632 34000  0.11214439        0.7920953    \n",
       "9   5521   7219 33500  0.06977971        0.5666405    \n",
       "10 13487  35004 33000  0.05982121        0.7218659    \n",
       "11  7574  26025 32400  0.08210162        0.7745766    \n",
       "12  1225  37054 28000  0.04758400        0.9679981    "
      ]
     },
     "metadata": {},
     "output_type": "display_data"
    }
   ],
   "source": [
    "recent_grads_health"
   ]
  },
  {
   "cell_type": "code",
   "execution_count": null,
   "metadata": {},
   "outputs": [],
   "source": []
  }
 ],
 "metadata": {
  "kernelspec": {
   "display_name": "R",
   "language": "R",
   "name": "ir"
  },
  "language_info": {
   "codemirror_mode": "r",
   "file_extension": ".r",
   "mimetype": "text/x-r-source",
   "name": "R",
   "pygments_lexer": "r",
   "version": "3.6.1"
  }
 },
 "nbformat": 4,
 "nbformat_minor": 4
}
